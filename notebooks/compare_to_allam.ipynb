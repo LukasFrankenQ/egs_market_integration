{
 "cells": [
  {
   "cell_type": "code",
   "execution_count": 2,
   "id": "b07b9147",
   "metadata": {},
   "outputs": [],
   "source": [
    "import os\n",
    "import pandas as pd\n",
    "import numpy as np\n",
    "import matplotlib.pyplot as plt\n",
    "from pathlib import Path"
   ]
  },
  {
   "cell_type": "code",
   "execution_count": null,
   "id": "29958280",
   "metadata": {},
   "outputs": [
    {
     "data": {
      "text/plain": [
       "['egs_costs_s_72_2015.csv',\n",
       " 'egs_costs_s_72_2020.csv',\n",
       " 'egs_costs_s_72_2025.csv',\n",
       " 'egs_costs_s_72_2030.csv',\n",
       " 'egs_costs_s_72_2035.csv',\n",
       " 'egs_costs_s_72_2040.csv',\n",
       " 'egs_costs_s_72_2045.csv',\n",
       " 'egs_costs_s_72_2050.csv']"
      ]
     },
     "execution_count": 5,
     "metadata": {},
     "output_type": "execute_result"
    }
   ],
   "source": [
    "os.listdir(\n",
    "    Path.cwd() / 'egs_cost_data'\n",
    ")"
   ]
  },
  {
   "cell_type": "code",
   "execution_count": 24,
   "id": "3a6f9823",
   "metadata": {},
   "outputs": [
    {
     "name": "stdout",
     "output_type": "stream",
     "text": [
      "name\n",
      "IT1 4     37.564711\n",
      "IT1 0     47.726136\n",
      "AT1 0     48.813785\n",
      "DE1 1     52.111185\n",
      "CH1 0     52.477725\n",
      "            ...    \n",
      "SE2 0     95.357787\n",
      "SE2 1     96.613479\n",
      "FR1 9     99.080029\n",
      "BA1 0    109.127423\n",
      "FI2 0    111.867747\n",
      "Name: capex_mean, Length: 70, dtype: float64\n"
     ]
    },
    {
     "data": {
      "image/png": "[encoded data removed]",
      "text/plain": [
       "<Figure size 1000x500 with 1 Axes>"
      ]
     },
     "metadata": {},
     "output_type": "display_data"
    }
   ],
   "source": [
    "fig, ax = plt.subplots(figsize=(10, 5))\n",
    "\n",
    "for year in [2020, 2025, 2030, 2035, 2040, 2045, 2050][::-1]:\n",
    "\n",
    "    c = pd.read_csv(\n",
    "        Path.cwd() / 'egs_cost_data' / f'egs_costs_s_72_{year}.csv'\n",
    "    ).set_index('name').dropna()['capex_mean'].sort_values() * 1000\n",
    "\n",
    "    lt = 25\n",
    "    dr = 0.07\n",
    "    eta = 0.97\n",
    "    eta_el = 0.12\n",
    "\n",
    "    orc_cost_th = 1500 * 1000 * eta_el\n",
    "\n",
    "    annuity_factor = dr * (1 + dr) ** lt / ((1 + dr) ** lt - 1)\n",
    "\n",
    "    lcoe = (c * annuity_factor / eta_el + annuity_factor * orc_cost_th) / eta / 8760\n",
    "\n",
    "    lcoe = (c + eta_el * orc_cost_th) * annuity_factor / (eta * 8760 * eta_el)\n",
    "    print(lcoe)\n",
    "\n",
    "    break\n",
    "\n",
    "\n",
    "\n",
    "\n",
    "\n",
    "plt.show()"
   ]
  }
 ],
 "metadata": {
  "kernelspec": {
   "display_name": "Python 3",
   "language": "python",
   "name": "python3"
  },
  "language_info": {
   "codemirror_mode": {
    "name": "ipython",
    "version": 3
   },
   "file_extension": ".py",
   "mimetype": "text/x-python",
   "name": "python",
   "nbconvert_exporter": "python",
   "pygments_lexer": "ipython3",
   "version": "3.12.7"
  }
 },
 "nbformat": 4,
 "nbformat_minor": 5
}
