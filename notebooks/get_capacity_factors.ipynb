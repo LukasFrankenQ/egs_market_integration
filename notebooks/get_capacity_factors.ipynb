{
 "cells": [
  {
   "cell_type": "code",
   "execution_count": null,
   "metadata": {},
   "outputs": [],
   "source": [
    "import numpy as np\n",
    "import pandas as pd\n",
    "import pypsa\n",
    "import os\n",
    "from pathlib import Path\n",
    "import seaborn as sns"
   ]
  },
  {
   "cell_type": "code",
   "execution_count": null,
   "metadata": {},
   "outputs": [],
   "source": [
    "n = pypsa.Network(Path.cwd().parent.parent.parent / \"cluster_data\" / \"chp_data\" / \"elec_s_72_lv1.0__Co2L0-3H-T-H-B-I-solar+p3-dist1_2050_1300_elec_flex.nc\")"
   ]
  },
  {
   "cell_type": "code",
   "execution_count": null,
   "metadata": {},
   "outputs": [],
   "source": [
    "buses = n.loads.loc[n.loads.carrier == \"electricity\"].index"
   ]
  },
  {
   "cell_type": "code",
   "execution_count": null,
   "metadata": {},
   "outputs": [],
   "source": [
    "import matplotlib.pyplot as plt"
   ]
  },
  {
   "cell_type": "code",
   "execution_count": null,
   "metadata": {},
   "outputs": [],
   "source": [
    "mode = \"chp\"\n",
    "\n",
    "print(os.listdir(Path.cwd().parent.parent.parent / \"cluster_data\" / \"chp_data\"))\n",
    "n = pypsa.Network(Path.cwd().parent.parent.parent / \"cluster_data\" / \"chp_data\" / f\"elec_s_72_lv1.0__Co2L0-3H-T-H-B-I-solar+p3-dist1_2050_1500_{mode}_flex.nc\")"
   ]
  },
  {
   "cell_type": "code",
   "execution_count": null,
   "metadata": {},
   "outputs": [],
   "source": [
    "renewables = [\"solar\", \"onwind\", \"offwind-dc\", \"offwind-ac\"]\n",
    "data = pd.DataFrame(index=buses, columns=renewables)\n",
    "\n",
    "for carrier in renewables:\n",
    "    \n",
    "    # print(n.generators.loc[n.generators.carrier == carrier].index)\n",
    "    gens = n.generators.loc[n.generators.carrier == carrier].bus\n",
    "\n",
    "    caps = n.generators_t.p_max_pu[gens.index].mean()\n",
    "\n",
    "    data.loc[gens.tolist(), carrier] = caps.values\n",
    "    # break\n",
    "\n",
    "data.fillna(0, inplace=True)\n",
    "data"
   ]
  },
  {
   "cell_type": "code",
   "execution_count": null,
   "metadata": {},
   "outputs": [],
   "source": [
    "n.loads.carrier.unique()"
   ]
  },
  {
   "cell_type": "code",
   "execution_count": null,
   "metadata": {},
   "outputs": [],
   "source": [
    "n.loads.carrier.unique()"
   ]
  },
  {
   "cell_type": "code",
   "execution_count": null,
   "metadata": {},
   "outputs": [],
   "source": [
    "generation_targets = {\n",
    "    \"dh\": [\"geothermal heat dh\"],\n",
    "    \"chp\": [\"geothermal heat chp district heat\", \"geothermal heat chp elec\"],\n",
    "    # \"elec\": [\"electricity\"],\n",
    "    \"elec\": [\"geothermal heat elec\"],\n",
    "}\n",
    "load_targets = {\n",
    "    \"dh\": [\"urban central heat\"],\n",
    "    \"chp\": [\"urban central heat\", \"electricity\", \"AC\"],\n",
    "    # \"elec\": [\"electricity\"],\n",
    "    \"elec\": [\"AC\"],\n",
    "}\n",
    "\n",
    "geothermal_buses = n.links.loc[n.links.carrier.isin(generation_targets[mode])].bus1.unique()\n",
    "\n",
    "gen_gens = n.generators.loc[n.generators.bus.isin(geothermal_buses)]\n",
    "\n",
    "def get_total_generation(name):\n",
    "    try:\n",
    "        return n.generators_t.p[name].sum()\n",
    "    except KeyError:\n",
    "        return 0.\n",
    "\n",
    "gen_gens.loc[:, \"total_gen\"] = pd.Series(gen_gens.index, gen_gens.index).apply(lambda name: get_total_generation(name))\n",
    "\n",
    "gen_links = (gen_links := n.links.loc[n.links.bus1.isin(geothermal_buses)]).loc[gen_links.carrier != \"DC\"]\n",
    "\n",
    "gen_links.loc[:, \"total_gen\"] = pd.Series(gen_links.index, gen_links.index).apply(lambda name: n.links_t.p1[name].sum() * (-1.))\n",
    "gen_links[\"bus\"] = gen_links.bus1\n",
    "\n",
    "all_gens = pd.concat((\n",
    "    gen_links[[\"bus\", \"total_gen\", \"carrier\"]],\n",
    "    gen_gens[[\"bus\", \"total_gen\", \"carrier\"]]\n",
    "))"
   ]
  },
  {
   "cell_type": "code",
   "execution_count": null,
   "metadata": {},
   "outputs": [],
   "source": [
    "geothermal_mask = all_gens.carrier.isin(generation_targets[mode])\n",
    "\n",
    "geothermal_gen = (ag := all_gens.loc[geothermal_mask]).groupby(ag.bus.str[:5]).sum()[\"total_gen\"]\n",
    "total_gen = all_gens.groupby(all_gens.bus.str[:5]).sum()[\"total_gen\"]\n",
    "\n",
    "data[\"geothermal generation share\"] = geothermal_gen / total_gen"
   ]
  },
  {
   "cell_type": "code",
   "execution_count": null,
   "metadata": {},
   "outputs": [],
   "source": [
    "def get_geothermal_capacity(n, mode):\n",
    "\n",
    "    gt = pd.concat((\n",
    "        (\n",
    "            (gg := n.links.loc[n.links.carrier.isin(generation_targets[mode])])[\"p_nom_opt\"] * gg[\"efficiency\"]\n",
    "            ).rename('p_nom_opt')\n",
    "        ,\n",
    "        gg[\"location\"],\n",
    "        gg[\"carrier\"]\n",
    "    ), axis=1)\n",
    "\n",
    "    gt.index = gt.location\n",
    "\n",
    "    gt = pd.concat((\n",
    "        gt.loc[gt.carrier == carrier, \"p_nom_opt\"].rename(carrier) for carrier in gt.carrier.unique()\n",
    "    ), axis=1)\n",
    "    \n",
    "    return gt\n",
    "\n",
    "\n",
    "capacity = get_geothermal_capacity(n, \"chp\")\n",
    "# print(capacity)\n",
    "\n",
    "print(get_geothermal_capacity(n, \"chp\"))\n",
    "data[generation_targets[mode]] = get_geothermal_capacity(n, mode)\n"
   ]
  },
  {
   "cell_type": "code",
   "execution_count": null,
   "metadata": {},
   "outputs": [],
   "source": [
    "data"
   ]
  },
  {
   "cell_type": "code",
   "execution_count": null,
   "metadata": {},
   "outputs": [],
   "source": [
    "def get_dac_capacity(n):\n",
    "\n",
    "    dac = n.links.loc[n.links.carrier == \"DAC\"]\n",
    "    dac = dac.loc[dac.bus3.str.contains(\"urban central heat\")]\n",
    "    dac.index = dac.bus2\n",
    "\n",
    "    return dac[\"p_nom_opt\"]\n",
    "\n",
    "data['dac'] = get_dac_capacity(n)\n",
    "\n",
    "data"
   ]
  },
  {
   "cell_type": "code",
   "execution_count": null,
   "metadata": {},
   "outputs": [],
   "source": [
    "def get_district_heating_share(n):\n",
    "    \n",
    "    heating_carriers = [\n",
    "        \"urban central heat\",\n",
    "        \"residential urban decentral heat\",\n",
    "        \"services urban decentral heat\",\n",
    "    ]\n",
    "\n",
    "    uch = n.loads.loc[n.loads.carrier == \"urban central heat\"].index\n",
    "\n",
    "    uch = n.loads_t.p_set[uch.intersection(n.loads_t.p_set.columns)].sum().reindex(uch, fill_value=0.)\n",
    "    uch.index = uch.index.str[:5]\n",
    "\n",
    "    other_heat = n.loads_t.p_set[n.loads.loc[n.loads.carrier.isin(heating_carriers).index.intersection(n.loads_t.p_set.columns)].index].sum()\n",
    "    other_heat = other_heat.reindex(n.loads.loc[n.loads.carrier.isin(heating_carriers)].index, fill_value=0.)\n",
    "    other_heat = other_heat.groupby(other_heat.index.str[:5]).sum()\n",
    "\n",
    "    share = uch.div(other_heat)\n",
    "\n",
    "    fig, ax = plt.subplots(1, 1, figsize=(17, 5))\n",
    "    share.plot.bar(ax=ax)\n",
    "    plt.show()\n",
    "\n",
    "    return share\n",
    "\n",
    "    \n",
    "# district_heating_share = get_district_heating_share(n)\n",
    "data[\"district heating share\"] = get_district_heating_share(n)"
   ]
  },
  {
   "cell_type": "code",
   "execution_count": null,
   "metadata": {},
   "outputs": [],
   "source": [
    "data"
   ]
  },
  {
   "cell_type": "code",
   "execution_count": null,
   "metadata": {},
   "outputs": [],
   "source": [
    "import seaborn as sns\n",
    "from itertools import product\n",
    "\n",
    "for col1, col2, in product(data.columns, data.columns):\n",
    "\n",
    "    if col1 == col2:\n",
    "        continue\n",
    "\n",
    "    fig, ax = plt.subplots(1, 1, figsize=(7, 7))\n",
    "    sns.scatterplot(x=col1, y=col2, data=data, ax=ax)\n",
    "    ax.grid(True)\n",
    "    plt.show()\n",
    "\n",
    "print(data.cor)\n",
    "sns.pairplot(data)\n",
    "\n"
   ]
  },
  {
   "cell_type": "code",
   "execution_count": null,
   "metadata": {},
   "outputs": [],
   "source": [
    "geothermal = (gt := all_gens.loc[all_gens.carrier.str.contains(\"geothermal\")]).groupby(gt.bus.str[:5]).sum()[\"total_gen\"]\n",
    "\n",
    "print(geothermal.head())\n",
    "print(geothermal.shape)\n",
    "print(\"==========================\")\n",
    "\n",
    "totals = all_gens.groupby(all_gens.bus.str[:5]).sum()[\"total_gen\"]\n",
    "print(totals.head())\n",
    "print(totals.shape)\n",
    "print(\"==========================\")\n",
    "\n",
    "share = geothermal / totals"
   ]
  },
  {
   "cell_type": "code",
   "execution_count": null,
   "metadata": {},
   "outputs": [],
   "source": [
    "fig, ax = plt.subplots(figsize=(20, 10))\n",
    "share.sort_values().plot.bar(ax=ax)"
   ]
  },
  {
   "cell_type": "code",
   "execution_count": null,
   "metadata": {},
   "outputs": [],
   "source": [
    "fig, ax = plt.subplots(figsize=(20, 10))\n",
    "\n",
    "all_gens.groupby(\"carrier\").sum()[\"total_gen\"].plot(kind=\"bar\", ax=ax)\n",
    "\n",
    "ax.set_yscale(\"log\")\n",
    "plt.show()\n",
    "all_gens.groupby(\"carrier\").sum()[\"total_gen\"]"
   ]
  },
  {
   "cell_type": "code",
   "execution_count": null,
   "metadata": {},
   "outputs": [],
   "source": [
    "idx = n.loads_t.p_set.columns\n",
    "\n",
    "idx[idx.str.contains(\"urban central heat\")].shape\n",
    "print(loads_idx.shape)\n",
    "print(n.loads.loc['IT3 0 urban central heat'])"
   ]
  },
  {
   "cell_type": "code",
   "execution_count": null,
   "metadata": {},
   "outputs": [],
   "source": [
    "n.loads_t.p_set[loads_idx.intersection(n.loads_t.p_set.columns)].sum().sum()"
   ]
  },
  {
   "cell_type": "code",
   "execution_count": null,
   "metadata": {},
   "outputs": [],
   "source": [
    "n.links.loc[n.links.bus0.str.contains(\"urban central heat\")]"
   ]
  },
  {
   "cell_type": "code",
   "execution_count": 2,
   "metadata": {},
   "outputs": [
    {
     "data": {
      "text/plain": [
       "[<matplotlib.lines.Line2D at 0x2a5f3833dc0>]"
      ]
     },
     "execution_count": 2,
     "metadata": {},
     "output_type": "execute_result"
    },
    {
     "data": {
      "image/png": "[encoded data removed]",
      "text/plain": [
       "<Figure size 640x480 with 1 Axes>"
      ]
     },
     "metadata": {},
     "output_type": "display_data"
    }
   ],
   "source": [
    "import numpy as np\n",
    "import matplotlib.pyplot as plt\n",
    "\n",
    "f = lambda T: 0.00052 * T + 0.032\n",
    "\n",
    "plt.plot((x:=np.linspace(90, 200, 100)), f(x))"
   ]
  }
 ],
 "metadata": {
  "kernelspec": {
   "display_name": "Python 3",
   "language": "python",
   "name": "python3"
  },
  "language_info": {
   "codemirror_mode": {
    "name": "ipython",
    "version": 3
   },
   "file_extension": ".py",
   "mimetype": "text/x-python",
   "name": "python",
   "nbconvert_exporter": "python",
   "pygments_lexer": "ipython3",
   "version": "3.10.12"
  }
 },
 "nbformat": 4,
 "nbformat_minor": 2
}
