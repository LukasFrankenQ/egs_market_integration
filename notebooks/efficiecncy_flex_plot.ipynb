{
 "cells": [
  {
   "cell_type": "code",
   "execution_count": 1,
   "metadata": {},
   "outputs": [],
   "source": [
    "import os\n",
    "import sys\n",
    "import numpy as np\n",
    "import pandas as pd\n",
    "import seaborn as sns\n",
    "from pathlib import Path\n",
    "import matplotlib.pyplot as plt\n",
    "plt.style.use('ggplot')\n",
    "\n",
    "idx = pd.IndexSlice\n",
    "\n",
    "root = Path.cwd().parent.parent.parent / \"cluster_data\""
   ]
  },
  {
   "cell_type": "code",
   "execution_count": 2,
   "metadata": {},
   "outputs": [],
   "source": [
    "def get_data(mode, op):\n",
    "\n",
    "    if mode == \"chp\" or mode == \"dh\":\n",
    "        df = pd.read_csv(root / f\"{mode}_data\" / f\"csvs_{op}\" / \"nodal_capacities.csv\", index_col=[0,1,2], header=[0,1,2,3,4,5,6])\n",
    "    elif mode == \"elec\":\n",
    "        df = pd.read_csv(root / f\"{mode}_data\" / \"csvs\" / \"nodal_capacities.csv\", index_col=[0,1,2], header=[0,1,2,3,4,5,6])\n",
    "\n",
    "\n",
    "    df = df.groupby(level=[0,2]).sum()\n",
    "    df.columns = df.columns.droplevel([0,1,2,3,5])\n",
    "\n",
    "    df[\"carrier\"] = df.index.get_level_values(1)\n",
    "    df.index = df.index.droplevel(1)\n",
    "\n",
    "    df.index += \" \" + df.carrier\n",
    "\n",
    "    df = df.loc[df.carrier.isin([\"geothermal heat\", \"geothermal heat elec\"])]\n",
    "    df.drop(\"carrier\", axis=1, inplace=True)\n",
    "    df = df.loc[:, idx[:, op]]\n",
    "    df.columns = df.columns.droplevel(1)\n",
    "\n",
    "    return df.loc[\"links geothermal heat\"].mul(0.5).mul(1e-3)\n",
    "\n",
    "elec_static = get_data(\"elec\", \"static\")\n",
    "elec_flex = get_data(\"elec\", \"flex\")"
   ]
  },
  {
   "cell_type": "code",
   "execution_count": 22,
   "metadata": {},
   "outputs": [
    {
     "name": "stdout",
     "output_type": "stream",
     "text": [
      "[1000. 1500. 2000.]\n"
     ]
    },
    {
     "data": {
      "image/png": "[encoded data removed]",
      "text/plain": [
       "<Figure size 600x600 with 1 Axes>"
      ]
     },
     "metadata": {},
     "output_type": "display_data"
    }
   ],
   "source": [
    "elec_static\n",
    "\n",
    "def make_efficiency_mesh(\n",
    "        base_value,\n",
    "        min_value,\n",
    "        max_values,\n",
    "        steps,\n",
    "        capex,\n",
    "        z\n",
    "    ):\n",
    "\n",
    "    etas = np.linspace(min_value, max_values, steps)\n",
    "\n",
    "    print(capex)\n",
    "    capexes = np.linspace(min(capex), max(capex), steps)\n",
    "\n",
    "    capexes, etas = np.meshgrid(capexes, etas)\n",
    "\n",
    "    final_z = np.zeros((steps, steps))\n",
    "    for i, eta in enumerate(etas):\n",
    "        \n",
    "        local_capexes = capex * eta.mean() / base_value\n",
    "\n",
    "        final_z[i] = np.interp(capexes[i], local_capexes, z)\n",
    "\n",
    "    fig, ax = plt.subplots(figsize=(6, 6))\n",
    "    # ax.contourf(etas, capexes, final_z, levels=20, cmap=\"viridis\")\n",
    "    ax.contourf(capexes, etas, final_z, levels=20, cmap=\"viridis\")\n",
    "    plt.show()\n",
    "\n",
    "\n",
    "make_efficiency_mesh(\n",
    "    0.1,\n",
    "    0.05,\n",
    "    0.2,\n",
    "    50,\n",
    "    elec_static.index.values.astype(float),\n",
    "    elec_static.values,\n",
    "    )"
   ]
  }
 ],
 "metadata": {
  "kernelspec": {
   "display_name": "Python 3",
   "language": "python",
   "name": "python3"
  },
  "language_info": {
   "codemirror_mode": {
    "name": "ipython",
    "version": 3
   },
   "file_extension": ".py",
   "mimetype": "text/x-python",
   "name": "python",
   "nbconvert_exporter": "python",
   "pygments_lexer": "ipython3",
   "version": "3.10.12"
  }
 },
 "nbformat": 4,
 "nbformat_minor": 2
}
