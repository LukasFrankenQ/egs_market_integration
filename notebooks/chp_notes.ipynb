{
 "cells": [
  {
   "cell_type": "code",
   "execution_count": 1,
   "metadata": {},
   "outputs": [],
   "source": [
    "import numpy as np\n",
    "import pandas as pd\n",
    "import matplotlib.pyplot as plt\n",
    "import pypsa"
   ]
  },
  {
   "cell_type": "code",
   "execution_count": null,
   "metadata": {},
   "outputs": [],
   "source": [
    "n = pypsa.Network()\n",
    "\n",
    "eta_el = 0.1\n",
    "eta_dh = 0.8\n",
    "eta_direct = 0.95\n",
    "\n",
    "el_capital_cost = 1000 # EUR/kW\n",
    "dh_capital_cost = 1000 # EUR/kW\n",
    "\n",
    "eta = eta_direct / eta_dh\n",
    "\n",
    "n.add(\n",
    "    \"Link\",\n",
    "    \"geothermal CHP electricity\",\n",
    "    bus0='geothermal well',\n",
    "    bus1='AC bus',\n",
    "    efficiency=eta_el * (1. + eta),\n",
    "    capital_cost=el_capital_cost * eta_el / (1 + eta),\n",
    "    p_max_pu=0.5,\n",
    ")\n",
    "n.add(\n",
    "    \"Link\",\n",
    "    \"geothermal CHP district heat\",\n",
    "    bus0='geothermal well',\n",
    "    bus1='DH bus',\n",
    "    efficiency=eta_dh * (1 + eta),\n",
    "    capital_cost=dh_capital_cost * eta_dh / (1 + eta),\n",
    "    p_max_pu=eta / 2.,\n",
    ")\n",
    "\n",
    "# Plus additional constraints\n",
    "\n",
    "# 1. p_nom of both links equal                                           -> CHP operation\n",
    "# 2. p_el > alpha p_dh                                                   -> backpressure limit\n",
    "# 3. p_el = p_nom * (eta_direct - (p_dh / p_nom)) / (eta_direct - 1)     -> iso fuel\n",
    "\n",
    "# recall p_nom = p_nom_el = p_nom_dh\n",
    "\n",
    "\n",
    "\n",
    "\n"
   ]
  },
  {
   "cell_type": "code",
   "execution_count": null,
   "metadata": {},
   "outputs": [],
   "source": [
    "import numpy as np\n",
    "import pandas as pd\n",
    "import matplotlib.pyplot as plt\n",
    "\n",
    "\n",
    "fig, ax = plt.subplots(figsize=(10, 6))\n",
    "\n",
    "ax.plot([0, 1], [1, 1,], color='red', label='ORC capacity', linewidth=2)\n",
    "\n",
    "\n",
    "eta_dh = 0.8 # efficiency when heating with ORC waste heat\n",
    "eta_direct = 0.95 # efficiency when heating directly with geothermal heat\n",
    "\n",
    "e = eta_direct / eta_dh\n",
    "\n",
    "ax.plot([1, e], [1, 0], color='blue', label='Iso fuel line', linewidth=2)\n",
    "\n",
    "s = 0.2\n",
    "\n",
    "m = 1 / (1 - e)\n",
    "b = e / (e - 1)\n",
    "\n",
    "x = b / (s - m)\n",
    "y = x * s\n",
    "\n",
    "ax.plot([0, x], [0, y], color='green', label='Backpressure Limit', linewidth=2, linestyle='dashed')\n",
    "ax.axvline(0, color='black', linewidth=1)\n",
    "ax.axhline(0, color='black', linewidth=1)\n",
    "\n",
    "ax.set_xlabel(\"Heat Generation\")\n",
    "ax.set_ylabel(\"Power Generation\")\n",
    "\n",
    "fill_x = np.linspace(0, e, 100)\n",
    "ax.fill_between(\n",
    "    fill_x,\n",
    "    np.zeros_like(fill_x),\n",
    "    np.minimum(np.ones_like(fill_x), m*fill_x + b),\n",
    "    color='red', alpha=0.2)\n",
    "\n",
    "ax.text(1.2, 0.02, \"A\")\n",
    "ax.text(1.01, 1.01, \"B\")\n",
    "\n",
    "ax.legend()\n",
    "\n",
    "ax.grid('dashed')\n",
    "ax.set_ylim(-0.05, 1.1)\n",
    "ax.set_xlim(-0.05, 1.4)\n",
    "\n",
    "plt.show()"
   ]
  },
  {
   "cell_type": "markdown",
   "metadata": {},
   "source": [
    "##### Testing"
   ]
  },
  {
   "cell_type": "code",
   "execution_count": 1,
   "metadata": {},
   "outputs": [
    {
     "data": {
      "image/png": "[encoded data removed]",
      "text/plain": [
       "<Figure size 1400x200 with 1 Axes>"
      ]
     },
     "metadata": {},
     "output_type": "display_data"
    },
    {
     "name": "stderr",
     "output_type": "stream",
     "text": [
      "C:\\Users\\lukas\\AppData\\Local\\Temp\\ipykernel_27752\\1145843156.py:60: DeprecatedWarning: lopf is deprecated as of 0.24 and will be removed in 1.0. Use linopy-based function ``n.optimize()`` instead. Migrate extra functionalities: https://pypsa.readthedocs.io/en/latest/examples/optimization-with-linopy-migrate-extra-functionalities.html.\n",
      "  n.lopf(solver_name=\"gurobi\")\n",
      "INFO:pypsa.linopf:Prepare linear problem\n",
      "INFO:pypsa.linopf:Total preparation time: 0.16s\n",
      "INFO:pypsa.linopf:Solve linear problem using Gurobi solver\n"
     ]
    },
    {
     "name": "stdout",
     "output_type": "stream",
     "text": [
      "Restricted license - for non-production use only - expires 2024-10-28\n",
      "Read LP format model from file C:\\Users\\lukas\\AppData\\Local\\Temp\\pypsa-problem-lsfyojxo.lp\n",
      "Reading time = 0.04 seconds\n",
      "obj: 270 rows, 92 columns, 360 nonzeros\n",
      "Gurobi Optimizer version 10.0.3 build v10.0.3rc0 (win64)\n",
      "\n",
      "CPU model: 12th Gen Intel(R) Core(TM) i7-12650H, instruction set [SSE2|AVX|AVX2]\n",
      "Thread count: 10 physical cores, 16 logical processors, using up to 16 threads\n",
      "\n",
      "Optimize a model with 270 rows, 92 columns and 360 nonzeros\n",
      "Model fingerprint: 0x932f321b\n",
      "Coefficient statistics:\n",
      "  Matrix range     [2e-01, 2e+00]\n",
      "  Objective range  [1e+00, 1e+00]\n",
      "  Bounds range     [1e+02, 1e+02]\n",
      "  RHS range        [1e+00, 1e+00]\n",
      "Presolve removed 0 rows and 2 columns\n",
      "Presolve time: 0.02s\n",
      "\n",
      "Solved in 0 iterations and 0.02 seconds (0.00 work units)\n",
      "Infeasible model\n"
     ]
    },
    {
     "name": "stderr",
     "output_type": "stream",
     "text": [
      "WARNING:pypsa.linopf:Optimization failed with status warning and termination condition infeasible\n"
     ]
    },
    {
     "data": {
      "text/plain": [
       "('warning', 'infeasible')"
      ]
     },
     "execution_count": 1,
     "metadata": {},
     "output_type": "execute_result"
    }
   ],
   "source": [
    "import pypsa\n",
    "import numpy as np\n",
    "import pandas as pd\n",
    "import matplotlib.pyplot as plt\n",
    "plt.style.use('ggplot')\n",
    "\n",
    "n = pypsa.Network()\n",
    "s = np.arange(30)\n",
    "\n",
    "n.set_snapshots(s)\n",
    "\n",
    "heat_demand = np.hstack([np.zeros(10), np.ones(20)])\n",
    "elec_demand = np.hstack([np.ones(20), np.zeros(10)])\n",
    "\n",
    "n.add(\"Bus\", \"well\")\n",
    "n.add(\"Bus\", \"district heat\")\n",
    "n.add(\"Bus\", \"AC\")\n",
    "\n",
    "n.add(\"Generator\",\n",
    "    \"geothermal\",\n",
    "    bus=\"well\",\n",
    "    p_nom_extendable=True,\n",
    "    p_nom_max=100,\n",
    "    marginal_cost=1,\n",
    "    capital_cost=1\n",
    "    )\n",
    "\n",
    "n.add(\"Load\", \"heat load\", bus=\"district heat\", p_set=heat_demand)\n",
    "n.add(\"Load\", \"elec load\", bus=\"AC\", p_set=elec_demand)\n",
    "\n",
    "eta_el = 0.1\n",
    "eta_dh = 0.8\n",
    "eta_direct = 0.95\n",
    "\n",
    "el_capital_cost = 1000 # EUR/kW\n",
    "dh_capital_cost = 1000 # EUR/kW\n",
    "\n",
    "eta = eta_direct / eta_dh\n",
    "\n",
    "n.add(\n",
    "    \"Link\",\n",
    "    \"geothermal CHP electricity\",\n",
    "    bus0='well',\n",
    "    bus1='AC',\n",
    "    efficiency=eta_el * (1. + eta),\n",
    "    capital_cost=el_capital_cost * eta_el / (1 + eta),\n",
    "    p_max_pu=0.5,\n",
    ")\n",
    "n.add(\n",
    "    \"Link\",\n",
    "    \"geothermal CHP district heat\",\n",
    "    bus0='well',\n",
    "    bus1='district heat',\n",
    "    efficiency=eta_dh * (1 + eta),\n",
    "    capital_cost=dh_capital_cost * eta_dh / (1 + eta),\n",
    "    p_max_pu=eta / 2.,\n",
    ")\n",
    "\n",
    "fig, ax = plt.subplots(figsize=(14, 2))\n",
    "\n",
    "ax.plot(s, heat_demand, label=\"heat demand\")\n",
    "ax.plot(s, elec_demand, label=\"elec demand\")\n",
    "\n",
    "ax.legend()\n",
    "plt.show()\n",
    "\n",
    "n.lopf(solver_name=\"gurobi\")\n",
    "\n"
   ]
  },
  {
   "cell_type": "code",
   "execution_count": null,
   "metadata": {},
   "outputs": [],
   "source": []
  }
 ],
 "metadata": {
  "kernelspec": {
   "display_name": "Python 3",
   "language": "python",
   "name": "python3"
  },
  "language_info": {
   "codemirror_mode": {
    "name": "ipython",
    "version": 3
   },
   "file_extension": ".py",
   "mimetype": "text/x-python",
   "name": "python",
   "nbconvert_exporter": "python",
   "pygments_lexer": "ipython3",
   "version": "3.10.12"
  }
 },
 "nbformat": 4,
 "nbformat_minor": 2
}
